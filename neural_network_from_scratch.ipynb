{
 "cells": [
  {
   "cell_type": "markdown",
   "id": "7e397dac",
   "metadata": {},
   "source": [
    "# This notebook will attempt to build a neural network for image classification using the MNIST dataframe found on Kaggle. The notebook will not use any Neural network libraries such as Tensorflow, Keras, Pytorch etc.. in order to give a deeper level of understanding of what a neural network does."
   ]
  },
  {
   "cell_type": "markdown",
   "id": "ecb42431",
   "metadata": {},
   "source": [
    "### The following links helped my understanding of how to build this:\n",
    "\n",
    "Building the network:\n",
    "* https://www.youtube.com/watch?v=w8yWXqWQYmU\n",
    "\n",
    "Intuition behind neural networks:\n",
    "* https://www.youtube.com/watch?v=aircAruvnKk&list=PLZHQObOWTQDNU6R1_67000Dx_ZCJB-3pi\n",
    "\n",
    "* https://www.youtube.com/watch?v=IHZwWFHWa-w&list=PLZHQObOWTQDNU6R1_67000Dx_ZCJB-3pi&index=2\n",
    "\n",
    "* https://www.youtube.com/watch?v=Ilg3gGewQ5U&list=PLZHQObOWTQDNU6R1_67000Dx_ZCJB-3pi&index=3\n",
    "\n",
    "* https://www.youtube.com/watch?v=tIeHLnjs5U8&list=PLZHQObOWTQDNU6R1_67000Dx_ZCJB-3pi&index=4"
   ]
  },
  {
   "cell_type": "code",
   "execution_count": 198,
   "id": "aaecc717",
   "metadata": {},
   "outputs": [],
   "source": [
    "import numpy as np \n",
    "import pandas as pd\n",
    "import matplotlib.pyplot as plt"
   ]
  },
  {
   "cell_type": "code",
   "execution_count": 199,
   "id": "5fd59b0f",
   "metadata": {},
   "outputs": [],
   "source": [
    "data = pd.read_csv('data/train.csv')"
   ]
  },
  {
   "cell_type": "markdown",
   "id": "1c40f1ec",
   "metadata": {},
   "source": [
    "### The cell below will split the data into training and testing sets "
   ]
  },
  {
   "cell_type": "code",
   "execution_count": 200,
   "id": "9c89310b",
   "metadata": {},
   "outputs": [],
   "source": [
    "data = np.array(data)\n",
    "m , n = data.shape\n",
    "np.random.shuffle(data)\n",
    "\n",
    "# Splitting dataframe into testing set\n",
    "test_data = data[0:1000].T\n",
    "test_X = test_data[1:n]\n",
    "test_X = test_X / 255.\n",
    "test_y = test_data[0]\n",
    "\n",
    "# Splitting dataframe into training set\n",
    "train_data = data[1000:m].T\n",
    "train_X = train_data[1:n]\n",
    "train_X = train_X / 255.\n",
    "\n",
    "train_y = train_data[0]\n",
    "_,m_train = train_X.shape"
   ]
  },
  {
   "cell_type": "markdown",
   "id": "e0d242a7",
   "metadata": {},
   "source": [
    "### The following cell is concerned with inititalising weights and biases"
   ]
  },
  {
   "cell_type": "code",
   "execution_count": 201,
   "id": "b31c4561",
   "metadata": {},
   "outputs": [],
   "source": [
    "def initialise_params():\n",
    "    # Initialising first weight matrix to have 10 rows and 784 columns,\n",
    "    # np.random.rand will give number between 0 and 1 and so -0.5 will \n",
    "    # give values between -0.5 and 0.5\n",
    "    w1 = np.random.rand(10,784) - 0.5\n",
    "    \n",
    "    # Initialising first bias vector, will have values between -0.5 and 0.5\n",
    "    b1 = np.random.rand(10, 1) - 0.5\n",
    "    \n",
    "    w2 = np.random.rand(10,10) - 0.5\n",
    "    \n",
    "    b2 = np.random.rand(10,1) - 0.5\n",
    "    \n",
    "    return w1, b1, w2, b2"
   ]
  },
  {
   "cell_type": "markdown",
   "id": "24e970d9",
   "metadata": {},
   "source": [
    "### The following cells will define the activation functions, forward propagation, back propagation, parameter updating, gradient descent algorithms and other necessary functions"
   ]
  },
  {
   "cell_type": "code",
   "execution_count": 202,
   "id": "8471514b",
   "metadata": {},
   "outputs": [],
   "source": [
    "def relu(z):\n",
    "    return np.maximum(z,0)\n",
    "\n",
    "def derivative_relu(z):\n",
    "    return z > 0"
   ]
  },
  {
   "cell_type": "code",
   "execution_count": 203,
   "id": "33b68b43",
   "metadata": {},
   "outputs": [],
   "source": [
    "def softmax(z):\n",
    "    a = np.exp(z) / sum(np.exp(z))\n",
    "    return a"
   ]
  },
  {
   "cell_type": "code",
   "execution_count": 204,
   "id": "6842fd23",
   "metadata": {},
   "outputs": [],
   "source": [
    "def one_hot_encoder(y):\n",
    "    one_hot_y = np.zeros((y.size, y.max()+1))\n",
    "    one_hot_y[np.arange(y.size),y] = 1\n",
    "    one_hot_y = one_hot_y.T\n",
    "    return one_hot_y"
   ]
  },
  {
   "cell_type": "code",
   "execution_count": 205,
   "id": "03344a50",
   "metadata": {},
   "outputs": [],
   "source": [
    "def forward_propagation(w1, b1, w2, b2, x):\n",
    "    z1 = w1.dot(x) + b1\n",
    "    a1 = relu(z1)\n",
    "    \n",
    "    z2 = w2.dot(a1) + b2\n",
    "    a2 = softmax(z2)\n",
    "    \n",
    "    return z1, a1, z2, a2"
   ]
  },
  {
   "cell_type": "code",
   "execution_count": 206,
   "id": "a3e47354",
   "metadata": {},
   "outputs": [],
   "source": [
    "def back_propagation(z1, a1, z2, a2, w1, w2, x, y):\n",
    "    \n",
    "    one_hot_y = one_hot_encoder(y)\n",
    "    \n",
    "    dz2 = a2 - one_hot_y\n",
    "    \n",
    "    dw2 = 1/m * dz2.dot(a1.T)\n",
    "    \n",
    "    db2 = 1/m * np.sum(dz2)\n",
    "    \n",
    "    dz1 = w2.T.dot(dz2) * derivative_relu(z1)\n",
    "    \n",
    "    dw1 = 1/m * dz1.dot(x.T)\n",
    "    \n",
    "    db1 = 1/m * np.sum(dz1)\n",
    "    \n",
    "    return dw1, db1, dw2, db2"
   ]
  },
  {
   "cell_type": "code",
   "execution_count": 207,
   "id": "4b538a96",
   "metadata": {},
   "outputs": [],
   "source": [
    "def update_parameters(w1, b1, w2, b2, dw1, db1, dw2, db2, alpha):\n",
    "    w1 = w1 - alpha * dw1\n",
    "    b1 = b1 - alpha * db1\n",
    "    \n",
    "    w2 = w2 - alpha * dw2\n",
    "    b2 = b2 - alpha * db2\n",
    "    \n",
    "    return w1, b1, w2, b2"
   ]
  },
  {
   "cell_type": "code",
   "execution_count": 208,
   "id": "b3395fbf",
   "metadata": {},
   "outputs": [],
   "source": [
    "def get_predictions(a2):\n",
    "    return np.argmax(a2, 0)"
   ]
  },
  {
   "cell_type": "code",
   "execution_count": 209,
   "id": "679abebc",
   "metadata": {},
   "outputs": [],
   "source": [
    "def get_accuracy(predictions, y):\n",
    "    print(predictions,y)\n",
    "    return np.sum(predictions == y) / y.size"
   ]
  },
  {
   "cell_type": "code",
   "execution_count": 210,
   "id": "ef07bbca",
   "metadata": {},
   "outputs": [],
   "source": [
    "def gradient_descent(x,y, alpha, iterations):\n",
    "    w1, b1, w2, b2 = initialise_params()\n",
    "    \n",
    "    for i in range(iterations):\n",
    "        z1, a1, z2, a2 = forward_propagation(w1, b1, w2, b2, x)\n",
    "        dw1, db1, dw2, db2 = back_propagation(z1, a1, z2, a2, w1, w2, x, y)\n",
    "        w1, b1, w2, b2 = update_parameters(w1, b1, w2, b2, dw1, db1, dw2, db2, alpha)\n",
    "        if i % 50 == 0:\n",
    "            print('Iteration:', i)\n",
    "            print('Accuracy', get_accuracy(get_predictions(a2), y))\n",
    "    \n",
    "    return w1, b1, w2, b2"
   ]
  },
  {
   "cell_type": "code",
   "execution_count": 211,
   "id": "361bf3f6",
   "metadata": {},
   "outputs": [
    {
     "name": "stdout",
     "output_type": "stream",
     "text": [
      "Iteration: 0\n",
      "[5 3 3 ... 5 9 5] [3 9 5 ... 7 8 4]\n",
      "Accuracy 0.11470731707317074\n",
      "Iteration: 50\n",
      "[3 9 7 ... 7 8 9] [3 9 5 ... 7 8 4]\n",
      "Accuracy 0.662609756097561\n",
      "Iteration: 100\n",
      "[3 9 7 ... 7 8 9] [3 9 5 ... 7 8 4]\n",
      "Accuracy 0.7641707317073171\n",
      "Iteration: 150\n",
      "[3 9 7 ... 7 8 9] [3 9 5 ... 7 8 4]\n",
      "Accuracy 0.8052682926829269\n",
      "Iteration: 200\n",
      "[3 9 7 ... 7 8 9] [3 9 5 ... 7 8 4]\n",
      "Accuracy 0.8201951219512195\n",
      "Iteration: 250\n",
      "[3 9 5 ... 7 8 9] [3 9 5 ... 7 8 4]\n",
      "Accuracy 0.8384146341463414\n",
      "Iteration: 300\n",
      "[3 9 5 ... 7 8 4] [3 9 5 ... 7 8 4]\n",
      "Accuracy 0.851170731707317\n",
      "Iteration: 350\n",
      "[3 9 5 ... 7 8 4] [3 9 5 ... 7 8 4]\n",
      "Accuracy 0.8610487804878049\n",
      "Iteration: 400\n",
      "[3 9 5 ... 7 8 4] [3 9 5 ... 7 8 4]\n",
      "Accuracy 0.8685121951219512\n",
      "Iteration: 450\n",
      "[3 9 5 ... 7 8 4] [3 9 5 ... 7 8 4]\n",
      "Accuracy 0.8742926829268293\n",
      "Iteration: 500\n",
      "[3 9 5 ... 7 8 4] [3 9 5 ... 7 8 4]\n",
      "Accuracy 0.8791219512195122\n",
      "Iteration: 550\n",
      "[3 9 5 ... 7 8 4] [3 9 5 ... 7 8 4]\n",
      "Accuracy 0.8827560975609756\n",
      "Iteration: 600\n",
      "[3 9 5 ... 7 8 4] [3 9 5 ... 7 8 4]\n",
      "Accuracy 0.8858048780487805\n",
      "Iteration: 650\n",
      "[3 9 5 ... 7 8 4] [3 9 5 ... 7 8 4]\n",
      "Accuracy 0.8891951219512195\n",
      "Iteration: 700\n",
      "[3 9 5 ... 7 8 4] [3 9 5 ... 7 8 4]\n",
      "Accuracy 0.891609756097561\n",
      "Iteration: 750\n",
      "[3 9 5 ... 7 8 4] [3 9 5 ... 7 8 4]\n",
      "Accuracy 0.8939268292682927\n",
      "Iteration: 800\n",
      "[3 9 5 ... 7 8 4] [3 9 5 ... 7 8 4]\n",
      "Accuracy 0.8960975609756098\n",
      "Iteration: 850\n",
      "[3 9 5 ... 7 8 4] [3 9 5 ... 7 8 4]\n",
      "Accuracy 0.8974878048780488\n",
      "Iteration: 900\n",
      "[3 9 5 ... 7 8 4] [3 9 5 ... 7 8 4]\n",
      "Accuracy 0.8989512195121951\n",
      "Iteration: 950\n",
      "[3 9 5 ... 7 8 4] [3 9 5 ... 7 8 4]\n",
      "Accuracy 0.9011219512195122\n"
     ]
    }
   ],
   "source": [
    "w1, b1, w2, b2 = gradient_descent(train_X, train_y, 0.2, 1000)"
   ]
  },
  {
   "cell_type": "code",
   "execution_count": 212,
   "id": "7336624d",
   "metadata": {},
   "outputs": [],
   "source": [
    "def make_prediction(x, w1, b1, w2, b2):\n",
    "    _,_,_,a2 = forward_propagation(w1, b1, w2, b2, x)\n",
    "    predictions = get_predictions(a2)\n",
    "    return predictions"
   ]
  },
  {
   "cell_type": "code",
   "execution_count": 213,
   "id": "f8fe2aea",
   "metadata": {},
   "outputs": [],
   "source": [
    "def test_predictions(index, w1, b1, w2, b2):\n",
    "    current_image = train_X[:,index, None]\n",
    "    prediction = make_prediction(train_X[:, index, None], w1, b1, w2, b2)\n",
    "    label = train_y[index]\n",
    "    print('Prediction: ', prediction)\n",
    "    print('Label: ', label)\n",
    "    \n",
    "    current_image = current_image.reshape((28,28)) * 255\n",
    "    plt.gray()\n",
    "    plt.imshow(current_image, interpolation = 'nearest')\n",
    "    plt.show()"
   ]
  },
  {
   "cell_type": "code",
   "execution_count": 214,
   "id": "e59c5228",
   "metadata": {
    "scrolled": true
   },
   "outputs": [
    {
     "name": "stdout",
     "output_type": "stream",
     "text": [
      "Prediction:  [3]\n",
      "Label:  3\n"
     ]
    },
    {
     "data": {
      "image/png": "[encoded data removed]",
      "text/plain": [
       "<Figure size 432x288 with 1 Axes>"
      ]
     },
     "metadata": {
      "needs_background": "light"
     },
     "output_type": "display_data"
    },
    {
     "name": "stdout",
     "output_type": "stream",
     "text": [
      "Prediction:  [0]\n",
      "Label:  0\n"
     ]
    },
    {
     "data": {
      "image/png": "[encoded data removed]",
      "text/plain": [
       "<Figure size 432x288 with 1 Axes>"
      ]
     },
     "metadata": {
      "needs_background": "light"
     },
     "output_type": "display_data"
    },
    {
     "name": "stdout",
     "output_type": "stream",
     "text": [
      "Prediction:  [4]\n",
      "Label:  4\n"
     ]
    },
    {
     "data": {
      "image/png": "[encoded data removed]",
      "text/plain": [
       "<Figure size 432x288 with 1 Axes>"
      ]
     },
     "metadata": {
      "needs_background": "light"
     },
     "output_type": "display_data"
    },
    {
     "name": "stdout",
     "output_type": "stream",
     "text": [
      "Prediction:  [5]\n",
      "Label:  3\n"
     ]
    },
    {
     "data": {
      "image/png": "[encoded data removed]",
      "text/plain": [
       "<Figure size 432x288 with 1 Axes>"
      ]
     },
     "metadata": {
      "needs_background": "light"
     },
     "output_type": "display_data"
    },
    {
     "name": "stdout",
     "output_type": "stream",
     "text": [
      "Prediction:  [4]\n",
      "Label:  4\n"
     ]
    },
    {
     "data": {
      "image/png": "[encoded data removed]",
      "text/plain": [
       "<Figure size 432x288 with 1 Axes>"
      ]
     },
     "metadata": {
      "needs_background": "light"
     },
     "output_type": "display_data"
    }
   ],
   "source": [
    "test_predictions(100,w1,b1,w2,b2)\n",
    "test_predictions(246,w1,b1,w2,b2)\n",
    "test_predictions(14,w1,b1,w2,b2)\n",
    "test_predictions(79,w1,b1,w2,b2)\n",
    "test_predictions(69,w1,b1,w2,b2)"
   ]
  },
  {
   "cell_type": "code",
   "execution_count": 215,
   "id": "50395b67",
   "metadata": {},
   "outputs": [],
   "source": [
    "test_predictions = make_prediction(test_X, w1, b1, w2, b2)"
   ]
  },
  {
   "cell_type": "code",
   "execution_count": 216,
   "id": "3ab84190",
   "metadata": {},
   "outputs": [
    {
     "name": "stdout",
     "output_type": "stream",
     "text": [
      "[7 3 2 7 8 7 0 6 8 3 8 4 2 3 7 7 9 0 0 0 6 6 0 1 9 9 1 8 1 7 0 3 8 4 9 6 3\n",
      " 7 7 0 2 4 9 6 4 1 2 1 7 0 9 7 6 5 1 1 7 0 1 1 3 8 1 1 1 9 4 0 5 5 4 6 7 0\n",
      " 7 8 3 5 8 4 6 6 0 0 7 8 3 6 4 4 3 4 5 2 7 3 9 1 4 6 4 8 4 8 0 3 7 0 7 5 6\n",
      " 6 8 8 4 7 2 2 5 2 3 6 6 9 7 2 1 3 9 9 7 0 3 8 6 8 3 3 2 8 0 6 3 0 8 9 6 0\n",
      " 2 6 4 2 5 3 2 1 8 1 5 2 8 2 3 5 0 1 1 1 0 1 0 8 3 0 8 0 0 7 9 3 6 3 8 4 3\n",
      " 5 8 8 3 6 0 3 5 6 7 8 9 2 1 7 6 1 5 9 2 7 8 8 1 6 8 2 9 8 5 2 3 3 6 6 1 9\n",
      " 6 9 7 0 1 1 5 4 8 6 1 9 2 3 0 4 0 0 7 5 4 1 2 6 4 9 0 5 0 8 6 9 3 4 3 6 0\n",
      " 9 6 0 3 4 2 1 4 9 9 4 8 4 5 9 9 7 7 1 1 9 1 2 3 7 3 9 6 6 2 4 6 0 9 1 6 7\n",
      " 9 9 7 4 8 3 2 7 5 2 9 4 1 5 9 4 8 8 9 3 6 8 8 0 8 4 2 1 9 7 0 3 3 4 7 8 4\n",
      " 4 7 0 6 7 9 4 8 8 2 7 5 2 8 5 5 1 9 6 7 4 8 9 6 5 7 8 1 6 6 0 5 1 9 4 8 0\n",
      " 8 4 1 3 6 7 6 1 4 7 3 3 2 6 2 2 2 1 5 8 3 6 4 7 4 9 1 5 0 5 3 3 1 5 6 1 1\n",
      " 7 0 6 8 6 9 9 4 3 2 4 7 9 2 5 0 0 7 0 8 1 9 4 0 1 8 2 8 4 3 1 8 8 2 2 7 2\n",
      " 8 1 4 0 4 5 9 7 8 5 3 2 8 5 7 8 1 8 1 9 9 3 6 1 2 4 1 4 4 2 1 6 2 7 0 6 5\n",
      " 7 7 2 4 3 7 4 0 9 9 7 4 4 6 9 2 1 4 8 1 5 2 8 8 3 6 7 6 2 6 4 8 8 5 7 6 1\n",
      " 9 3 5 8 0 3 8 7 8 4 7 3 8 8 1 2 3 3 5 3 4 5 2 5 4 4 6 1 6 0 3 4 4 1 1 9 9\n",
      " 5 8 3 3 0 4 3 6 7 3 2 4 2 1 1 9 8 7 4 6 7 5 5 4 2 0 2 7 7 6 7 2 6 6 6 7 4\n",
      " 4 5 5 4 0 9 6 6 7 2 6 6 1 6 5 3 5 8 6 9 8 5 7 3 0 3 1 4 5 0 7 7 9 0 5 1 7\n",
      " 1 5 5 8 3 3 7 3 9 0 7 5 9 2 6 1 9 8 5 0 3 5 5 9 5 5 3 5 9 7 3 7 5 0 8 3 7\n",
      " 8 4 9 8 8 9 9 0 4 6 7 6 8 9 4 2 3 9 2 8 1 1 9 4 0 9 2 1 7 1 2 4 8 4 4 1 0\n",
      " 0 2 6 6 6 4 3 2 8 4 7 7 8 1 5 9 3 2 5 4 0 1 1 6 8 3 3 0 9 4 4 7 1 1 2 4 0\n",
      " 3 7 2 7 9 7 1 9 7 4 9 6 0 8 7 8 2 8 4 7 7 9 6 1 7 8 6 1 4 1 7 4 2 5 2 8 7\n",
      " 9 0 2 9 8 9 8 6 6 4 6 6 1 4 8 1 9 8 5 4 4 6 0 4 3 7 2 7 3 9 1 6 8 4 0 6 6\n",
      " 2 4 6 3 3 1 2 6 0 5 4 0 0 4 1 1 3 9 3 3 5 2 7 5 5 2 0 3 2 1 5 3 3 6 3 6 6\n",
      " 2 7 1 2 1 4 9 5 8 9 2 3 4 3 3 1 7 3 6 0 1 0 9 2 6 1 5 8 9 3 5 1 0 1 3 9 8\n",
      " 6 2 3 9 7 2 6 6 1 1 3 3 4 1 2 7 7 9 4 8 0 6 3 1 1 9 8 8 1 1 9 8 9 7 4 7 3\n",
      " 1 9 2 6 1 5 9 0 2 8 4 9 2 9 6 7 3 8 3 6 6 2 8 4 7 8 3 1 8 9 0 2 4 1 9 2 8\n",
      " 3 7 7 6 5 5 6 0 4 7 9 0 6 5 1 6 6 4 8 3 9 7 8 5 0 9 7 3 9 7 4 8 5 4 0 1 4\n",
      " 0] [7 8 2 7 8 7 0 6 8 3 8 4 2 3 7 7 9 0 0 0 6 6 0 1 9 9 1 8 1 7 0 5 8 9 9 6 3\n",
      " 7 7 0 2 4 9 6 4 1 2 1 7 0 9 7 6 3 1 2 7 0 1 2 3 8 1 1 1 9 4 0 5 5 4 6 7 5\n",
      " 7 8 3 5 5 4 6 6 0 0 7 8 8 6 4 4 3 4 5 2 7 5 9 1 6 6 4 8 4 5 0 3 7 0 7 5 6\n",
      " 6 9 8 4 7 8 2 5 2 3 6 6 9 7 2 1 3 9 9 7 0 3 8 6 8 3 3 2 8 0 4 3 0 8 7 6 0\n",
      " 3 6 4 2 5 3 2 1 3 1 5 7 8 2 3 3 0 1 1 1 0 1 0 1 3 0 8 0 0 7 9 3 6 5 8 4 3\n",
      " 5 8 8 3 6 0 8 5 6 7 8 9 7 1 7 6 1 3 5 2 7 8 8 1 6 8 2 9 0 5 2 3 3 6 6 1 9\n",
      " 6 9 7 0 1 1 5 4 8 5 1 4 2 3 0 4 9 0 9 5 4 1 2 6 9 9 0 5 0 8 5 9 3 4 3 6 0\n",
      " 9 0 0 3 4 2 1 4 9 9 4 8 4 5 9 9 7 7 1 1 7 1 2 3 7 3 9 6 6 2 4 6 0 9 1 6 7\n",
      " 9 9 7 4 8 3 6 7 5 2 9 4 1 5 9 4 8 2 9 3 6 8 8 5 8 9 2 1 9 7 0 6 3 4 2 8 4\n",
      " 4 7 0 6 7 9 4 5 8 8 9 5 2 8 5 5 1 9 6 7 4 8 9 6 5 7 8 1 6 6 0 5 1 9 4 8 0\n",
      " 8 4 1 3 6 7 6 1 2 7 3 3 2 6 2 2 7 1 5 8 3 6 4 7 4 9 1 5 0 5 3 3 1 5 6 1 1\n",
      " 7 0 6 8 0 9 9 4 3 2 8 7 9 2 5 0 0 7 0 8 1 7 4 5 1 8 2 5 4 3 1 8 8 2 3 7 2\n",
      " 8 1 4 0 4 5 9 7 8 5 3 2 8 5 7 8 1 8 1 7 9 5 6 1 2 4 1 4 4 2 1 6 2 7 0 6 8\n",
      " 7 7 2 9 3 7 4 0 9 9 7 4 7 6 4 2 1 4 8 1 5 2 8 8 3 6 7 6 2 6 4 8 8 9 7 6 1\n",
      " 9 3 5 4 0 3 8 7 8 4 7 3 8 8 1 2 3 3 5 3 4 5 2 5 4 4 6 1 6 0 3 4 4 1 1 9 9\n",
      " 5 8 3 3 0 4 1 6 7 3 2 4 6 1 1 9 8 7 9 6 7 5 5 4 2 5 2 7 7 6 7 2 6 6 6 7 4\n",
      " 4 5 5 4 0 9 2 0 7 2 6 6 1 6 2 8 5 8 6 9 8 5 7 3 0 5 1 4 5 0 7 7 9 0 3 1 7\n",
      " 1 5 3 8 3 3 7 3 9 0 7 5 9 2 6 1 9 8 5 0 3 5 5 9 5 5 3 5 9 7 0 7 5 0 5 3 7\n",
      " 8 9 9 8 8 9 9 6 4 6 7 6 8 9 4 2 8 9 2 8 8 1 9 4 0 9 2 1 7 1 2 4 8 4 4 1 0\n",
      " 0 2 6 6 6 4 3 2 8 4 7 7 8 1 5 9 3 2 5 4 0 1 1 9 8 3 3 0 9 4 4 7 1 1 2 4 4\n",
      " 2 7 2 7 9 7 1 9 7 4 9 6 0 8 7 8 2 8 7 7 7 9 6 1 7 8 6 1 4 1 7 4 2 5 2 5 7\n",
      " 9 0 2 9 8 9 8 6 6 4 6 6 1 4 8 1 9 8 5 4 4 6 0 4 3 7 2 7 8 9 1 6 1 4 0 6 6\n",
      " 2 4 6 3 3 1 2 6 0 8 4 0 0 4 1 1 3 9 3 3 8 2 7 5 5 2 0 3 2 1 5 3 3 6 3 4 6\n",
      " 2 7 1 2 1 4 9 5 8 9 2 7 4 5 3 1 7 3 6 0 1 0 9 2 6 1 5 8 9 3 5 1 0 1 3 9 8\n",
      " 8 2 9 9 4 2 6 6 1 1 3 3 4 7 2 7 7 9 4 8 0 2 3 1 1 9 2 4 1 1 7 8 9 7 4 7 3\n",
      " 1 9 2 6 1 5 9 0 2 8 4 9 2 9 6 7 3 0 3 6 6 2 8 4 7 1 3 1 8 4 0 2 4 1 9 2 8\n",
      " 3 7 7 6 5 3 6 0 4 5 9 0 6 5 1 6 6 4 8 3 9 7 8 5 0 9 7 3 9 7 4 8 5 4 0 1 4\n",
      " 0]\n"
     ]
    },
    {
     "data": {
      "text/plain": [
       "0.898"
      ]
     },
     "execution_count": 216,
     "metadata": {},
     "output_type": "execute_result"
    }
   ],
   "source": [
    "get_accuracy(test_predictions,test_y)"
   ]
  },
  {
   "cell_type": "markdown",
   "id": "8629d862",
   "metadata": {},
   "source": [
    "### Model holds > 89% accuracy for testing set and so was not overfitted and generalises well."
   ]
  }
 ],
 "metadata": {
  "kernelspec": {
   "display_name": "Python 3",
   "language": "python",
   "name": "python3"
  },
  "language_info": {
   "codemirror_mode": {
    "name": "ipython",
    "version": 3
   },
   "file_extension": ".py",
   "mimetype": "text/x-python",
   "name": "python",
   "nbconvert_exporter": "python",
   "pygments_lexer": "ipython3",
   "version": "3.9.0"
  }
 },
 "nbformat": 4,
 "nbformat_minor": 5
}
